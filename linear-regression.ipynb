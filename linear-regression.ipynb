{
 "cells": [
  {
   "cell_type": "code",
   "execution_count": 1,
   "id": "6604606f",
   "metadata": {
    "_cell_guid": "b1076dfc-b9ad-4769-8c92-a6c4dae69d19",
    "_kg_hide-input": true,
    "_kg_hide-output": true,
    "_uuid": "8f2839f25d086af736a60e9eeb907d3b93b6e0e5",
    "execution": {
     "iopub.execute_input": "2021-09-16T21:26:41.811748Z",
     "iopub.status.busy": "2021-09-16T21:26:41.810043Z",
     "iopub.status.idle": "2021-09-16T21:26:41.836437Z",
     "shell.execute_reply": "2021-09-16T21:26:41.836932Z",
     "shell.execute_reply.started": "2021-09-16T20:00:47.016099Z"
    },
    "jupyter": {
     "source_hidden": true
    },
    "papermill": {
     "duration": 0.056916,
     "end_time": "2021-09-16T21:26:41.837240",
     "exception": false,
     "start_time": "2021-09-16T21:26:41.780324",
     "status": "completed"
    },
    "tags": []
   },
   "outputs": [
    {
     "name": "stdout",
     "output_type": "stream",
     "text": [
      "/kaggle/input/advertising/Advertising.csv\n"
     ]
    }
   ],
   "source": [
    "# This Python 3 environment comes with many helpful analytics libraries installed\n",
    "# It is defined by the kaggle/python Docker image: https://github.com/kaggle/docker-python\n",
    "# For example, here's several helpful packages to load\n",
    "\n",
    "import numpy as np # linear algebra\n",
    "import pandas as pd # data processing, CSV file I/O (e.g. pd.read_csv)\n",
    "\n",
    "# Input data files are available in the read-only \"../input/\" directory\n",
    "# For example, running this (by clicking run or pressing Shift+Enter) will list all files under the input directory\n",
    "\n",
    "import os\n",
    "for dirname, _, filenames in os.walk('/kaggle/input'):\n",
    "    for filename in filenames:\n",
    "        print(os.path.join(dirname, filename))\n",
    "\n",
    "# You can write up to 20GB to the current directory (/kaggle/working/) that gets preserved as output when you create a version using \"Save & Run All\" \n",
    "# You can also write temporary files to /kaggle/temp/, but they won't be saved outside of the current session"
   ]
  },
  {
   "cell_type": "markdown",
   "id": "17a6a34d",
   "metadata": {
    "papermill": {
     "duration": 0.018475,
     "end_time": "2021-09-16T21:26:41.880498",
     "exception": false,
     "start_time": "2021-09-16T21:26:41.862023",
     "status": "completed"
    },
    "tags": []
   },
   "source": [
    "# ***Simple Linear Regression***"
   ]
  },
  {
   "cell_type": "markdown",
   "id": "f63fecb1",
   "metadata": {
    "papermill": {
     "duration": 0.018472,
     "end_time": "2021-09-16T21:26:41.920361",
     "exception": false,
     "start_time": "2021-09-16T21:26:41.901889",
     "status": "completed"
    },
    "tags": []
   },
   "source": [
    "- *In regression analysis; In statistical models involving two or more variables, the cause-effect relationship and the extent to which one or more of the variables affect one or more other variables are investigated. The main purpose is to find the mathematical function that expresses the relationship between dependent and independent variables. The effect of a one-unit variable in the independent variables on the dependent variable is observed.*\n",
    "\n",
    "---------\n",
    "\n",
    "\n",
    "- *The mathematical relationship between two or more variables is analyzed by Regression Analysis, and the direction and degree of the relationship is analyzed by Correlation Analysis.*\n",
    "\n",
    "---------\n",
    "\n",
    "- *The key point in linear regression is that our dependent value must be continuous while the independent variables must be measurable on a categorical or continuous measurement scale.\n",
    "In simple linear regression we have one dependent and one independent variable.*\n",
    "\n",
    "---\n",
    "---\n",
    "\n",
    "### Model Equation:\n",
    "\n",
    "\n",
    "                                              y = b0 + b1x + e\n",
    "\n",
    "                                - b0 : the point where the line intersects the y-axis \n",
    "                                - b1 : slope of the line and regression coefficient \n",
    "                                - e : random error value\n",
    "\n",
    "\n",
    "----\n",
    "<center><img\n",
    "src=\"https://s3.amazonaws.com/revue/items/images/003/917/834/original/lr.png?1544073534\" style=\"width:50%;height:50%;\">\n",
    "</center>"
   ]
  },
  {
   "cell_type": "markdown",
   "id": "8cd36455",
   "metadata": {
    "papermill": {
     "duration": 0.018154,
     "end_time": "2021-09-16T21:26:41.957187",
     "exception": false,
     "start_time": "2021-09-16T21:26:41.939033",
     "status": "completed"
    },
    "tags": []
   },
   "source": [
    "> ## Model"
   ]
  },
  {
   "cell_type": "markdown",
   "id": "61bbfa48",
   "metadata": {
    "papermill": {
     "duration": 0.018211,
     "end_time": "2021-09-16T21:26:41.995381",
     "exception": false,
     "start_time": "2021-09-16T21:26:41.977170",
     "status": "completed"
    },
    "tags": []
   },
   "source": [
    "* **I will use the advertising dataset in this example. Let's import the libraries we will use**"
   ]
  },
  {
   "cell_type": "code",
   "execution_count": 2,
   "id": "530608ce",
   "metadata": {
    "_kg_hide-input": true,
    "_kg_hide-output": true,
    "execution": {
     "iopub.execute_input": "2021-09-16T21:26:42.038325Z",
     "iopub.status.busy": "2021-09-16T21:26:42.037714Z",
     "iopub.status.idle": "2021-09-16T21:26:43.055867Z",
     "shell.execute_reply": "2021-09-16T21:26:43.055227Z",
     "shell.execute_reply.started": "2021-09-16T16:36:15.104172Z"
    },
    "jupyter": {
     "source_hidden": true
    },
    "papermill": {
     "duration": 1.042089,
     "end_time": "2021-09-16T21:26:43.056016",
     "exception": false,
     "start_time": "2021-09-16T21:26:42.013927",
     "status": "completed"
    },
    "tags": []
   },
   "outputs": [],
   "source": [
    "# Library\n",
    "import pandas as pd\n",
    "import numpy as np\n",
    "from sklearn.linear_model import LinearRegression"
   ]
  },
  {
   "cell_type": "code",
   "execution_count": 3,
   "id": "dbc5add9",
   "metadata": {
    "execution": {
     "iopub.execute_input": "2021-09-16T21:26:43.096862Z",
     "iopub.status.busy": "2021-09-16T21:26:43.096248Z",
     "iopub.status.idle": "2021-09-16T21:26:43.192356Z",
     "shell.execute_reply": "2021-09-16T21:26:43.192861Z",
     "shell.execute_reply.started": "2021-09-16T16:36:16.319353Z"
    },
    "papermill": {
     "duration": 0.118089,
     "end_time": "2021-09-16T21:26:43.193027",
     "exception": false,
     "start_time": "2021-09-16T21:26:43.074938",
     "status": "completed"
    },
    "tags": []
   },
   "outputs": [
    {
     "data": {
      "text/html": [
       "<div>\n",
       "<style scoped>\n",
       "    .dataframe tbody tr th:only-of-type {\n",
       "        vertical-align: middle;\n",
       "    }\n",
       "\n",
       "    .dataframe tbody tr th {\n",
       "        vertical-align: top;\n",
       "    }\n",
       "\n",
       "    .dataframe thead th {\n",
       "        text-align: right;\n",
       "    }\n",
       "</style>\n",
       "<table border=\"1\" class=\"dataframe\">\n",
       "  <thead>\n",
       "    <tr style=\"text-align: right;\">\n",
       "      <th></th>\n",
       "      <th>TV</th>\n",
       "      <th>radio</th>\n",
       "      <th>newspaper</th>\n",
       "      <th>sales</th>\n",
       "    </tr>\n",
       "  </thead>\n",
       "  <tbody>\n",
       "    <tr>\n",
       "      <th>0</th>\n",
       "      <td>230.1</td>\n",
       "      <td>37.8</td>\n",
       "      <td>69.2</td>\n",
       "      <td>22.1</td>\n",
       "    </tr>\n",
       "    <tr>\n",
       "      <th>1</th>\n",
       "      <td>44.5</td>\n",
       "      <td>39.3</td>\n",
       "      <td>45.1</td>\n",
       "      <td>10.4</td>\n",
       "    </tr>\n",
       "    <tr>\n",
       "      <th>2</th>\n",
       "      <td>17.2</td>\n",
       "      <td>45.9</td>\n",
       "      <td>69.3</td>\n",
       "      <td>9.3</td>\n",
       "    </tr>\n",
       "    <tr>\n",
       "      <th>3</th>\n",
       "      <td>151.5</td>\n",
       "      <td>41.3</td>\n",
       "      <td>58.5</td>\n",
       "      <td>18.5</td>\n",
       "    </tr>\n",
       "    <tr>\n",
       "      <th>4</th>\n",
       "      <td>180.8</td>\n",
       "      <td>10.8</td>\n",
       "      <td>58.4</td>\n",
       "      <td>12.9</td>\n",
       "    </tr>\n",
       "  </tbody>\n",
       "</table>\n",
       "</div>"
      ],
      "text/plain": [
       "      TV  radio  newspaper  sales\n",
       "0  230.1   37.8       69.2   22.1\n",
       "1   44.5   39.3       45.1   10.4\n",
       "2   17.2   45.9       69.3    9.3\n",
       "3  151.5   41.3       58.5   18.5\n",
       "4  180.8   10.8       58.4   12.9"
      ]
     },
     "execution_count": 3,
     "metadata": {},
     "output_type": "execute_result"
    }
   ],
   "source": [
    "data = pd.read_csv(\"/kaggle/input/advertising/Advertising.csv\")\n",
    "data.head()"
   ]
  },
  {
   "cell_type": "markdown",
   "id": "4d0845d9",
   "metadata": {
    "papermill": {
     "duration": 0.019084,
     "end_time": "2021-09-16T21:26:43.231428",
     "exception": false,
     "start_time": "2021-09-16T21:26:43.212344",
     "status": "completed"
    },
    "tags": []
   },
   "source": [
    "**We have advertising expenditures and sales data for TV, radio, newspaper. In this study, we will deal with TV and sales variables.**\n",
    "\n",
    "**Our aim is to model TV-advertisement expenditures and to conduct studies.**\n",
    "\n",
    "**We determined TV as the independent variable (x) and sales as the dependent variable (y).**"
   ]
  },
  {
   "cell_type": "code",
   "execution_count": 4,
   "id": "21630d64",
   "metadata": {
    "execution": {
     "iopub.execute_input": "2021-09-16T21:26:43.298493Z",
     "iopub.status.busy": "2021-09-16T21:26:43.297814Z",
     "iopub.status.idle": "2021-09-16T21:26:43.300532Z",
     "shell.execute_reply": "2021-09-16T21:26:43.300083Z",
     "shell.execute_reply.started": "2021-09-16T16:36:16.359363Z"
    },
    "papermill": {
     "duration": 0.049784,
     "end_time": "2021-09-16T21:26:43.300668",
     "exception": false,
     "start_time": "2021-09-16T21:26:43.250884",
     "status": "completed"
    },
    "tags": []
   },
   "outputs": [],
   "source": [
    "X = data[[\"TV\"]] # independent variable\n",
    "y = data[\"sales\"] # dependent variable\n",
    "\n",
    "reg = LinearRegression()\n",
    "model = reg.fit(X,y)"
   ]
  },
  {
   "cell_type": "code",
   "execution_count": 5,
   "id": "9f0fe675",
   "metadata": {
    "execution": {
     "iopub.execute_input": "2021-09-16T21:26:43.342546Z",
     "iopub.status.busy": "2021-09-16T21:26:43.341883Z",
     "iopub.status.idle": "2021-09-16T21:26:43.348286Z",
     "shell.execute_reply": "2021-09-16T21:26:43.347798Z",
     "shell.execute_reply.started": "2021-09-16T16:36:16.394419Z"
    },
    "papermill": {
     "duration": 0.028811,
     "end_time": "2021-09-16T21:26:43.348437",
     "exception": false,
     "start_time": "2021-09-16T21:26:43.319626",
     "status": "completed"
    },
    "tags": []
   },
   "outputs": [
    {
     "name": "stdout",
     "output_type": "stream",
     "text": [
      "β0 coefficient:  7.032593549127695\n",
      "β1 coefficient:  [0.04753664]\n"
     ]
    }
   ],
   "source": [
    "print(\"β0 coefficient: \", model.intercept_)\n",
    "print(\"β1 coefficient: \", model.coef_)"
   ]
  },
  {
   "cell_type": "markdown",
   "id": "e4e8095e",
   "metadata": {
    "papermill": {
     "duration": 0.023598,
     "end_time": "2021-09-16T21:26:43.391502",
     "exception": false,
     "start_time": "2021-09-16T21:26:43.367904",
     "status": "completed"
    },
    "tags": []
   },
   "source": [
    "> ### R2 Value\n",
    "\n",
    "---\n",
    "* **R2 is a value related to the explainability of the model. R2 provides us with the information that we can explain what percentage of the change in the dependent variable when we use the independent variables we have.**\n",
    "\n",
    "* **The smaller the ratio of the sum of the residuals to the sum of the means, the higher R2 will be.**"
   ]
  },
  {
   "cell_type": "code",
   "execution_count": 6,
   "id": "dfb20451",
   "metadata": {
    "execution": {
     "iopub.execute_input": "2021-09-16T21:26:43.447776Z",
     "iopub.status.busy": "2021-09-16T21:26:43.446797Z",
     "iopub.status.idle": "2021-09-16T21:26:43.458466Z",
     "shell.execute_reply": "2021-09-16T21:26:43.457961Z",
     "shell.execute_reply.started": "2021-09-16T16:36:16.403676Z"
    },
    "papermill": {
     "duration": 0.040575,
     "end_time": "2021-09-16T21:26:43.458649",
     "exception": false,
     "start_time": "2021-09-16T21:26:43.418074",
     "status": "completed"
    },
    "tags": []
   },
   "outputs": [
    {
     "name": "stdout",
     "output_type": "stream",
     "text": [
      "R2 Value:  0.611875050850071\n"
     ]
    }
   ],
   "source": [
    "print(\"R2 Value: \", model.score(X,y))"
   ]
  },
  {
   "cell_type": "markdown",
   "id": "35bfa61e",
   "metadata": {
    "papermill": {
     "duration": 0.023943,
     "end_time": "2021-09-16T21:26:43.505053",
     "exception": false,
     "start_time": "2021-09-16T21:26:43.481110",
     "status": "completed"
    },
    "tags": []
   },
   "source": [
    ">  ### Regression Chart"
   ]
  },
  {
   "cell_type": "code",
   "execution_count": 7,
   "id": "5b5b7c77",
   "metadata": {
    "_kg_hide-output": false,
    "execution": {
     "iopub.execute_input": "2021-09-16T21:26:43.550688Z",
     "iopub.status.busy": "2021-09-16T21:26:43.549568Z",
     "iopub.status.idle": "2021-09-16T21:26:43.929939Z",
     "shell.execute_reply": "2021-09-16T21:26:43.929398Z",
     "shell.execute_reply.started": "2021-09-16T16:43:38.436626Z"
    },
    "papermill": {
     "duration": 0.40463,
     "end_time": "2021-09-16T21:26:43.930085",
     "exception": false,
     "start_time": "2021-09-16T21:26:43.525455",
     "status": "completed"
    },
    "tags": []
   },
   "outputs": [
    {
     "name": "stderr",
     "output_type": "stream",
     "text": [
      "/opt/conda/lib/python3.7/site-packages/seaborn/_decorators.py:43: FutureWarning: Pass the following variables as keyword args: x, y. From version 0.12, the only valid positional argument will be `data`, and passing other arguments without an explicit keyword will result in an error or misinterpretation.\n",
      "  FutureWarning\n"
     ]
    },
    {
     "data": {
      "image/png": "[encoded data removed]",
      "text/plain": [
       "<Figure size 432x288 with 1 Axes>"
      ]
     },
     "metadata": {
      "needs_background": "light"
     },
     "output_type": "display_data"
    }
   ],
   "source": [
    "import seaborn as sns\n",
    "import matplotlib.pyplot as plt\n",
    "\n",
    "g = sns.regplot(data[\"TV\"], data[\"sales\"], ci=None,scatter_kws={'color':'r','s':12});\n",
    "g.set_title(\"Sales Forecasting by Advertisement Regression Model\");\n",
    "g.set_xlabel(\"TV Spending\");\n",
    "g.set_ylabel(\"Number of Sales\");"
   ]
  },
  {
   "cell_type": "markdown",
   "id": "b326047f",
   "metadata": {
    "papermill": {
     "duration": 0.021007,
     "end_time": "2021-09-16T21:26:43.972008",
     "exception": false,
     "start_time": "2021-09-16T21:26:43.951001",
     "status": "completed"
    },
    "tags": []
   },
   "source": [
    "> **Prediction**\n",
    "---\n",
    "\n",
    "**Let's try to make predictions on the model we have trained. How much will I earn if I invest in TV?**\n",
    "\n",
    "---\n",
    "**For example, what is the estimated value of sales when 30 units of TV are spent?**"
   ]
  },
  {
   "cell_type": "code",
   "execution_count": 8,
   "id": "70ab74a7",
   "metadata": {
    "execution": {
     "iopub.execute_input": "2021-09-16T21:26:44.019344Z",
     "iopub.status.busy": "2021-09-16T21:26:44.018749Z",
     "iopub.status.idle": "2021-09-16T21:26:44.021343Z",
     "shell.execute_reply": "2021-09-16T21:26:44.021875Z",
     "shell.execute_reply.started": "2021-09-16T16:36:16.864593Z"
    },
    "papermill": {
     "duration": 0.029008,
     "end_time": "2021-09-16T21:26:44.022046",
     "exception": false,
     "start_time": "2021-09-16T21:26:43.993038",
     "status": "completed"
    },
    "tags": []
   },
   "outputs": [
    {
     "data": {
      "text/plain": [
       "array([8.45869276])"
      ]
     },
     "execution_count": 8,
     "metadata": {},
     "output_type": "execute_result"
    }
   ],
   "source": [
    "model.predict([[30]])"
   ]
  },
  {
   "cell_type": "markdown",
   "id": "adfb5949",
   "metadata": {
    "papermill": {
     "duration": 0.021182,
     "end_time": "2021-09-16T21:26:44.064888",
     "exception": false,
     "start_time": "2021-09-16T21:26:44.043706",
     "status": "completed"
    },
    "tags": []
   },
   "source": [
    "### let's estimate for more spending"
   ]
  },
  {
   "cell_type": "code",
   "execution_count": 9,
   "id": "cd366eba",
   "metadata": {
    "execution": {
     "iopub.execute_input": "2021-09-16T21:26:44.110754Z",
     "iopub.status.busy": "2021-09-16T21:26:44.110187Z",
     "iopub.status.idle": "2021-09-16T21:26:44.115451Z",
     "shell.execute_reply": "2021-09-16T21:26:44.115952Z",
     "shell.execute_reply.started": "2021-09-16T16:45:21.464491Z"
    },
    "papermill": {
     "duration": 0.029865,
     "end_time": "2021-09-16T21:26:44.116135",
     "exception": false,
     "start_time": "2021-09-16T21:26:44.086270",
     "status": "completed"
    },
    "tags": []
   },
   "outputs": [
    {
     "data": {
      "text/plain": [
       "array([7.98332636, 8.22100956, 8.83898589])"
      ]
     },
     "execution_count": 9,
     "metadata": {},
     "output_type": "execute_result"
    }
   ],
   "source": [
    "sales = [[20], [25], [38]]\n",
    "model.predict(sales)"
   ]
  },
  {
   "cell_type": "markdown",
   "id": "726ad3d5",
   "metadata": {
    "papermill": {
     "duration": 0.021121,
     "end_time": "2021-09-16T21:26:44.159175",
     "exception": false,
     "start_time": "2021-09-16T21:26:44.138054",
     "status": "completed"
    },
    "tags": []
   },
   "source": [
    "> **Errors and Mean Error Squares**\n",
    "----\n",
    "\n",
    "* **Our aim is to minimize the difference between the actual values and the estimated values.**"
   ]
  },
  {
   "cell_type": "code",
   "execution_count": 10,
   "id": "8f64bc9b",
   "metadata": {
    "execution": {
     "iopub.execute_input": "2021-09-16T21:26:44.205655Z",
     "iopub.status.busy": "2021-09-16T21:26:44.204974Z",
     "iopub.status.idle": "2021-09-16T21:26:44.210187Z",
     "shell.execute_reply": "2021-09-16T21:26:44.210716Z",
     "shell.execute_reply.started": "2021-09-16T16:49:34.596432Z"
    },
    "papermill": {
     "duration": 0.030181,
     "end_time": "2021-09-16T21:26:44.210876",
     "exception": false,
     "start_time": "2021-09-16T21:26:44.180695",
     "status": "completed"
    },
    "tags": []
   },
   "outputs": [
    {
     "data": {
      "text/plain": [
       "0    22.1\n",
       "1    10.4\n",
       "2     9.3\n",
       "3    18.5\n",
       "4    12.9\n",
       "Name: sales, dtype: float64"
      ]
     },
     "execution_count": 10,
     "metadata": {},
     "output_type": "execute_result"
    }
   ],
   "source": [
    "# let's call our y values\n",
    "y.head()"
   ]
  },
  {
   "cell_type": "code",
   "execution_count": 11,
   "id": "a970dcbb",
   "metadata": {
    "execution": {
     "iopub.execute_input": "2021-09-16T21:26:44.257690Z",
     "iopub.status.busy": "2021-09-16T21:26:44.257094Z",
     "iopub.status.idle": "2021-09-16T21:26:44.264056Z",
     "shell.execute_reply": "2021-09-16T21:26:44.263599Z",
     "shell.execute_reply.started": "2021-09-16T16:50:14.6336Z"
    },
    "papermill": {
     "duration": 0.031405,
     "end_time": "2021-09-16T21:26:44.264194",
     "exception": false,
     "start_time": "2021-09-16T21:26:44.232789",
     "status": "completed"
    },
    "tags": []
   },
   "outputs": [
    {
     "data": {
      "text/plain": [
       "array([17.97077451,  9.14797405,  7.85022376, 14.23439457, 15.62721814])"
      ]
     },
     "execution_count": 11,
     "metadata": {},
     "output_type": "execute_result"
    }
   ],
   "source": [
    "# Let's call a predicted value using the model we have built\n",
    "model.predict(X)[0:5]"
   ]
  },
  {
   "cell_type": "code",
   "execution_count": 12,
   "id": "161646a8",
   "metadata": {
    "execution": {
     "iopub.execute_input": "2021-09-16T21:26:44.321136Z",
     "iopub.status.busy": "2021-09-16T21:26:44.320356Z",
     "iopub.status.idle": "2021-09-16T21:26:44.324055Z",
     "shell.execute_reply": "2021-09-16T21:26:44.323588Z",
     "shell.execute_reply.started": "2021-09-16T16:55:39.012555Z"
    },
    "papermill": {
     "duration": 0.038134,
     "end_time": "2021-09-16T21:26:44.324184",
     "exception": false,
     "start_time": "2021-09-16T21:26:44.286050",
     "status": "completed"
    },
    "tags": []
   },
   "outputs": [
    {
     "data": {
      "text/html": [
       "<div>\n",
       "<style scoped>\n",
       "    .dataframe tbody tr th:only-of-type {\n",
       "        vertical-align: middle;\n",
       "    }\n",
       "\n",
       "    .dataframe tbody tr th {\n",
       "        vertical-align: top;\n",
       "    }\n",
       "\n",
       "    .dataframe thead th {\n",
       "        text-align: right;\n",
       "    }\n",
       "</style>\n",
       "<table border=\"1\" class=\"dataframe\">\n",
       "  <thead>\n",
       "    <tr style=\"text-align: right;\">\n",
       "      <th></th>\n",
       "      <th>y_</th>\n",
       "      <th>y_pred</th>\n",
       "    </tr>\n",
       "  </thead>\n",
       "  <tbody>\n",
       "    <tr>\n",
       "      <th>0</th>\n",
       "      <td>22.1</td>\n",
       "      <td>17.970775</td>\n",
       "    </tr>\n",
       "    <tr>\n",
       "      <th>1</th>\n",
       "      <td>10.4</td>\n",
       "      <td>9.147974</td>\n",
       "    </tr>\n",
       "    <tr>\n",
       "      <th>2</th>\n",
       "      <td>9.3</td>\n",
       "      <td>7.850224</td>\n",
       "    </tr>\n",
       "    <tr>\n",
       "      <th>3</th>\n",
       "      <td>18.5</td>\n",
       "      <td>14.234395</td>\n",
       "    </tr>\n",
       "    <tr>\n",
       "      <th>4</th>\n",
       "      <td>12.9</td>\n",
       "      <td>15.627218</td>\n",
       "    </tr>\n",
       "  </tbody>\n",
       "</table>\n",
       "</div>"
      ],
      "text/plain": [
       "     y_     y_pred\n",
       "0  22.1  17.970775\n",
       "1  10.4   9.147974\n",
       "2   9.3   7.850224\n",
       "3  18.5  14.234395\n",
       "4  12.9  15.627218"
      ]
     },
     "execution_count": 12,
     "metadata": {},
     "output_type": "execute_result"
    }
   ],
   "source": [
    "y_ = y[0:10]\n",
    "y_pred = pd.DataFrame(model.predict(X)[0:10])\n",
    "df = pd.concat([y_, y_pred], axis=1)\n",
    "df.columns = [\"y_\", \"y_pred\"]\n",
    "df.head()"
   ]
  },
  {
   "cell_type": "code",
   "execution_count": 13,
   "id": "bfd709ba",
   "metadata": {
    "execution": {
     "iopub.execute_input": "2021-09-16T21:26:44.372227Z",
     "iopub.status.busy": "2021-09-16T21:26:44.371306Z",
     "iopub.status.idle": "2021-09-16T21:26:44.383593Z",
     "shell.execute_reply": "2021-09-16T21:26:44.384032Z",
     "shell.execute_reply.started": "2021-09-16T17:02:59.928629Z"
    },
    "papermill": {
     "duration": 0.037882,
     "end_time": "2021-09-16T21:26:44.384205",
     "exception": false,
     "start_time": "2021-09-16T21:26:44.346323",
     "status": "completed"
    },
    "tags": []
   },
   "outputs": [
    {
     "data": {
      "text/html": [
       "<div>\n",
       "<style scoped>\n",
       "    .dataframe tbody tr th:only-of-type {\n",
       "        vertical-align: middle;\n",
       "    }\n",
       "\n",
       "    .dataframe tbody tr th {\n",
       "        vertical-align: top;\n",
       "    }\n",
       "\n",
       "    .dataframe thead th {\n",
       "        text-align: right;\n",
       "    }\n",
       "</style>\n",
       "<table border=\"1\" class=\"dataframe\">\n",
       "  <thead>\n",
       "    <tr style=\"text-align: right;\">\n",
       "      <th></th>\n",
       "      <th>y_</th>\n",
       "      <th>y_pred</th>\n",
       "      <th>errors</th>\n",
       "    </tr>\n",
       "  </thead>\n",
       "  <tbody>\n",
       "    <tr>\n",
       "      <th>0</th>\n",
       "      <td>22.1</td>\n",
       "      <td>17.970775</td>\n",
       "      <td>4.129225</td>\n",
       "    </tr>\n",
       "    <tr>\n",
       "      <th>1</th>\n",
       "      <td>10.4</td>\n",
       "      <td>9.147974</td>\n",
       "      <td>1.252026</td>\n",
       "    </tr>\n",
       "    <tr>\n",
       "      <th>2</th>\n",
       "      <td>9.3</td>\n",
       "      <td>7.850224</td>\n",
       "      <td>1.449776</td>\n",
       "    </tr>\n",
       "    <tr>\n",
       "      <th>3</th>\n",
       "      <td>18.5</td>\n",
       "      <td>14.234395</td>\n",
       "      <td>4.265605</td>\n",
       "    </tr>\n",
       "    <tr>\n",
       "      <th>4</th>\n",
       "      <td>12.9</td>\n",
       "      <td>15.627218</td>\n",
       "      <td>-2.727218</td>\n",
       "    </tr>\n",
       "    <tr>\n",
       "      <th>5</th>\n",
       "      <td>7.2</td>\n",
       "      <td>7.446162</td>\n",
       "      <td>-0.246162</td>\n",
       "    </tr>\n",
       "    <tr>\n",
       "      <th>6</th>\n",
       "      <td>11.8</td>\n",
       "      <td>9.765950</td>\n",
       "      <td>2.034050</td>\n",
       "    </tr>\n",
       "    <tr>\n",
       "      <th>7</th>\n",
       "      <td>13.2</td>\n",
       "      <td>12.746498</td>\n",
       "      <td>0.453502</td>\n",
       "    </tr>\n",
       "    <tr>\n",
       "      <th>8</th>\n",
       "      <td>4.8</td>\n",
       "      <td>7.441409</td>\n",
       "      <td>-2.641409</td>\n",
       "    </tr>\n",
       "    <tr>\n",
       "      <th>9</th>\n",
       "      <td>10.6</td>\n",
       "      <td>16.530414</td>\n",
       "      <td>-5.930414</td>\n",
       "    </tr>\n",
       "  </tbody>\n",
       "</table>\n",
       "</div>"
      ],
      "text/plain": [
       "     y_     y_pred    errors\n",
       "0  22.1  17.970775  4.129225\n",
       "1  10.4   9.147974  1.252026\n",
       "2   9.3   7.850224  1.449776\n",
       "3  18.5  14.234395  4.265605\n",
       "4  12.9  15.627218 -2.727218\n",
       "5   7.2   7.446162 -0.246162\n",
       "6  11.8   9.765950  2.034050\n",
       "7  13.2  12.746498  0.453502\n",
       "8   4.8   7.441409 -2.641409\n",
       "9  10.6  16.530414 -5.930414"
      ]
     },
     "execution_count": 13,
     "metadata": {},
     "output_type": "execute_result"
    }
   ],
   "source": [
    "# Errors\n",
    "df[\"errors\"] = df[\"y_\"] - df[\"y_pred\"]\n",
    "df"
   ]
  },
  {
   "cell_type": "markdown",
   "id": "1cbe81f1",
   "metadata": {
    "papermill": {
     "duration": 0.022076,
     "end_time": "2021-09-16T21:26:44.429047",
     "exception": false,
     "start_time": "2021-09-16T21:26:44.406971",
     "status": "completed"
    },
    "tags": []
   },
   "source": [
    "> ### We do the squaring to prevent positive and negative values from canceling each other out."
   ]
  },
  {
   "cell_type": "code",
   "execution_count": 14,
   "id": "039751b6",
   "metadata": {
    "execution": {
     "iopub.execute_input": "2021-09-16T21:26:44.479997Z",
     "iopub.status.busy": "2021-09-16T21:26:44.479360Z",
     "iopub.status.idle": "2021-09-16T21:26:44.492206Z",
     "shell.execute_reply": "2021-09-16T21:26:44.491704Z",
     "shell.execute_reply.started": "2021-09-16T17:05:34.29158Z"
    },
    "papermill": {
     "duration": 0.040299,
     "end_time": "2021-09-16T21:26:44.492342",
     "exception": false,
     "start_time": "2021-09-16T21:26:44.452043",
     "status": "completed"
    },
    "tags": []
   },
   "outputs": [
    {
     "data": {
      "text/html": [
       "<div>\n",
       "<style scoped>\n",
       "    .dataframe tbody tr th:only-of-type {\n",
       "        vertical-align: middle;\n",
       "    }\n",
       "\n",
       "    .dataframe tbody tr th {\n",
       "        vertical-align: top;\n",
       "    }\n",
       "\n",
       "    .dataframe thead th {\n",
       "        text-align: right;\n",
       "    }\n",
       "</style>\n",
       "<table border=\"1\" class=\"dataframe\">\n",
       "  <thead>\n",
       "    <tr style=\"text-align: right;\">\n",
       "      <th></th>\n",
       "      <th>y_</th>\n",
       "      <th>y_pred</th>\n",
       "      <th>errors</th>\n",
       "      <th>mean_square</th>\n",
       "    </tr>\n",
       "  </thead>\n",
       "  <tbody>\n",
       "    <tr>\n",
       "      <th>0</th>\n",
       "      <td>22.1</td>\n",
       "      <td>17.970775</td>\n",
       "      <td>4.129225</td>\n",
       "      <td>17.050503</td>\n",
       "    </tr>\n",
       "    <tr>\n",
       "      <th>1</th>\n",
       "      <td>10.4</td>\n",
       "      <td>9.147974</td>\n",
       "      <td>1.252026</td>\n",
       "      <td>1.567569</td>\n",
       "    </tr>\n",
       "    <tr>\n",
       "      <th>2</th>\n",
       "      <td>9.3</td>\n",
       "      <td>7.850224</td>\n",
       "      <td>1.449776</td>\n",
       "      <td>2.101851</td>\n",
       "    </tr>\n",
       "    <tr>\n",
       "      <th>3</th>\n",
       "      <td>18.5</td>\n",
       "      <td>14.234395</td>\n",
       "      <td>4.265605</td>\n",
       "      <td>18.195390</td>\n",
       "    </tr>\n",
       "    <tr>\n",
       "      <th>4</th>\n",
       "      <td>12.9</td>\n",
       "      <td>15.627218</td>\n",
       "      <td>-2.727218</td>\n",
       "      <td>7.437719</td>\n",
       "    </tr>\n",
       "    <tr>\n",
       "      <th>5</th>\n",
       "      <td>7.2</td>\n",
       "      <td>7.446162</td>\n",
       "      <td>-0.246162</td>\n",
       "      <td>0.060596</td>\n",
       "    </tr>\n",
       "    <tr>\n",
       "      <th>6</th>\n",
       "      <td>11.8</td>\n",
       "      <td>9.765950</td>\n",
       "      <td>2.034050</td>\n",
       "      <td>4.137358</td>\n",
       "    </tr>\n",
       "    <tr>\n",
       "      <th>7</th>\n",
       "      <td>13.2</td>\n",
       "      <td>12.746498</td>\n",
       "      <td>0.453502</td>\n",
       "      <td>0.205664</td>\n",
       "    </tr>\n",
       "    <tr>\n",
       "      <th>8</th>\n",
       "      <td>4.8</td>\n",
       "      <td>7.441409</td>\n",
       "      <td>-2.641409</td>\n",
       "      <td>6.977040</td>\n",
       "    </tr>\n",
       "    <tr>\n",
       "      <th>9</th>\n",
       "      <td>10.6</td>\n",
       "      <td>16.530414</td>\n",
       "      <td>-5.930414</td>\n",
       "      <td>35.169814</td>\n",
       "    </tr>\n",
       "  </tbody>\n",
       "</table>\n",
       "</div>"
      ],
      "text/plain": [
       "     y_     y_pred    errors  mean_square\n",
       "0  22.1  17.970775  4.129225    17.050503\n",
       "1  10.4   9.147974  1.252026     1.567569\n",
       "2   9.3   7.850224  1.449776     2.101851\n",
       "3  18.5  14.234395  4.265605    18.195390\n",
       "4  12.9  15.627218 -2.727218     7.437719\n",
       "5   7.2   7.446162 -0.246162     0.060596\n",
       "6  11.8   9.765950  2.034050     4.137358\n",
       "7  13.2  12.746498  0.453502     0.205664\n",
       "8   4.8   7.441409 -2.641409     6.977040\n",
       "9  10.6  16.530414 -5.930414    35.169814"
      ]
     },
     "execution_count": 14,
     "metadata": {},
     "output_type": "execute_result"
    }
   ],
   "source": [
    "df[\"mean_square\"] = df[\"errors\"] ** 2\n",
    "df"
   ]
  },
  {
   "cell_type": "code",
   "execution_count": 15,
   "id": "b2ca6a2c",
   "metadata": {
    "execution": {
     "iopub.execute_input": "2021-09-16T21:26:44.545869Z",
     "iopub.status.busy": "2021-09-16T21:26:44.545150Z",
     "iopub.status.idle": "2021-09-16T21:26:44.548116Z",
     "shell.execute_reply": "2021-09-16T21:26:44.548586Z",
     "shell.execute_reply.started": "2021-09-16T17:06:24.622413Z"
    },
    "papermill": {
     "duration": 0.032685,
     "end_time": "2021-09-16T21:26:44.548752",
     "exception": false,
     "start_time": "2021-09-16T21:26:44.516067",
     "status": "completed"
    },
    "tags": []
   },
   "outputs": [
    {
     "data": {
      "text/plain": [
       "9.290350329638102"
      ]
     },
     "execution_count": 15,
     "metadata": {},
     "output_type": "execute_result"
    }
   ],
   "source": [
    "# If we take the average of this value\n",
    "np.mean(df[\"mean_square\"])"
   ]
  },
  {
   "cell_type": "markdown",
   "id": "5d3b4d98",
   "metadata": {
    "papermill": {
     "duration": 0.022842,
     "end_time": "2021-09-16T21:26:44.596278",
     "exception": false,
     "start_time": "2021-09-16T21:26:44.573436",
     "status": "completed"
    },
    "tags": []
   },
   "source": [
    "> ### The mean squared error is our mean error over the data. That is, when we square the difference between the predicted value and the actual value and take the average, we have reached the conclusion that our error is 9.2."
   ]
  },
  {
   "cell_type": "markdown",
   "id": "0777aa8e",
   "metadata": {
    "papermill": {
     "duration": 0.022598,
     "end_time": "2021-09-16T21:26:44.642303",
     "exception": false,
     "start_time": "2021-09-16T21:26:44.619705",
     "status": "completed"
    },
    "tags": []
   },
   "source": [
    "# *Multiple Linear Regression*\n",
    "---\n",
    "#### Linear regression analysis is generally examined under two main headings. The simple linear regression we mentioned above is used when a dependent is an independent variable. Multiple linear regression is used when there is one dependent and more than one independent variable.\n",
    "\n",
    "* Using multiple linear regression analysis; For example, suppose the dependent variable is y: basal metabolic rate and the independent variables are weight, height, and age. In such a study we use the multiple linear regression equation\n",
    "---\n",
    "                                                            \n",
    "                                y = b0 + b1x1 + b2x2 + b3x3 + .... bnxn + e\n",
    "\n",
    "---\n",
    "\n",
    "* In multiple linear regression, the relationship between one dependent and more than one independent variable is examined within the framework of the general objectives that we will mention below. The purpose of the research may be to achieve all or any of these objectives.\n",
    "    * Finding mathematical models for the relationship between the dependent variable and independent variables, identifying the structure between the variables, and summarizing and interpreting the data for regression purposes\n",
    "    * Find a model that better explains the dependent variable\n",
    "    * To find which of the independent variables thought to affect the dependent variable or which ones affect the dependent variable more\n",
    "---\n",
    "* Multiple linear regression has several assumptions:\n",
    "    * Errors are normally distributed\n",
    "    * The errors are independent of each other and there is no autocorrelation between them\n",
    "    * Variances of error terms for each observation are fixed\n",
    "    * There is no relationship between the variables and the error term\n",
    "    * There is no multicollinearity problem between independent variables\n",
    "---\n",
    "<center><img\n",
    "src=\"https://www.jmp.com/en_hk/statistics-knowledge-portal/what-is-multiple-regression/fitting-multiple-regression-model/_jcr_content/par/styledcontainer_2069/par/lightbox_1c56/lightboxImage.img.gif/1548704005266.gif\" style=\"width:50%;height:50%;\">\n",
    "</center>\n",
    "\n",
    "                                                         \n",
    "                                                           "
   ]
  },
  {
   "cell_type": "code",
   "execution_count": 16,
   "id": "c7c21495",
   "metadata": {
    "execution": {
     "iopub.execute_input": "2021-09-16T21:26:44.693904Z",
     "iopub.status.busy": "2021-09-16T21:26:44.692859Z",
     "iopub.status.idle": "2021-09-16T21:26:44.706330Z",
     "shell.execute_reply": "2021-09-16T21:26:44.705736Z",
     "shell.execute_reply.started": "2021-09-16T20:00:56.627623Z"
    },
    "papermill": {
     "duration": 0.041311,
     "end_time": "2021-09-16T21:26:44.706490",
     "exception": false,
     "start_time": "2021-09-16T21:26:44.665179",
     "status": "completed"
    },
    "tags": []
   },
   "outputs": [
    {
     "data": {
      "text/html": [
       "<div>\n",
       "<style scoped>\n",
       "    .dataframe tbody tr th:only-of-type {\n",
       "        vertical-align: middle;\n",
       "    }\n",
       "\n",
       "    .dataframe tbody tr th {\n",
       "        vertical-align: top;\n",
       "    }\n",
       "\n",
       "    .dataframe thead th {\n",
       "        text-align: right;\n",
       "    }\n",
       "</style>\n",
       "<table border=\"1\" class=\"dataframe\">\n",
       "  <thead>\n",
       "    <tr style=\"text-align: right;\">\n",
       "      <th></th>\n",
       "      <th>TV</th>\n",
       "      <th>radio</th>\n",
       "      <th>newspaper</th>\n",
       "      <th>sales</th>\n",
       "    </tr>\n",
       "  </thead>\n",
       "  <tbody>\n",
       "    <tr>\n",
       "      <th>0</th>\n",
       "      <td>230.1</td>\n",
       "      <td>37.8</td>\n",
       "      <td>69.2</td>\n",
       "      <td>22.1</td>\n",
       "    </tr>\n",
       "    <tr>\n",
       "      <th>1</th>\n",
       "      <td>44.5</td>\n",
       "      <td>39.3</td>\n",
       "      <td>45.1</td>\n",
       "      <td>10.4</td>\n",
       "    </tr>\n",
       "    <tr>\n",
       "      <th>2</th>\n",
       "      <td>17.2</td>\n",
       "      <td>45.9</td>\n",
       "      <td>69.3</td>\n",
       "      <td>9.3</td>\n",
       "    </tr>\n",
       "    <tr>\n",
       "      <th>3</th>\n",
       "      <td>151.5</td>\n",
       "      <td>41.3</td>\n",
       "      <td>58.5</td>\n",
       "      <td>18.5</td>\n",
       "    </tr>\n",
       "    <tr>\n",
       "      <th>4</th>\n",
       "      <td>180.8</td>\n",
       "      <td>10.8</td>\n",
       "      <td>58.4</td>\n",
       "      <td>12.9</td>\n",
       "    </tr>\n",
       "  </tbody>\n",
       "</table>\n",
       "</div>"
      ],
      "text/plain": [
       "      TV  radio  newspaper  sales\n",
       "0  230.1   37.8       69.2   22.1\n",
       "1   44.5   39.3       45.1   10.4\n",
       "2   17.2   45.9       69.3    9.3\n",
       "3  151.5   41.3       58.5   18.5\n",
       "4  180.8   10.8       58.4   12.9"
      ]
     },
     "execution_count": 16,
     "metadata": {},
     "output_type": "execute_result"
    }
   ],
   "source": [
    "# we can build the model for multiple linear regression\n",
    "\n",
    "data = pd.read_csv(\"/kaggle/input/advertising/Advertising.csv\")\n",
    "data.head()"
   ]
  },
  {
   "cell_type": "code",
   "execution_count": 17,
   "id": "ed599b3b",
   "metadata": {
    "execution": {
     "iopub.execute_input": "2021-09-16T21:26:44.760925Z",
     "iopub.status.busy": "2021-09-16T21:26:44.760055Z",
     "iopub.status.idle": "2021-09-16T21:26:44.763274Z",
     "shell.execute_reply": "2021-09-16T21:26:44.762696Z",
     "shell.execute_reply.started": "2021-09-16T20:01:27.729101Z"
    },
    "papermill": {
     "duration": 0.033045,
     "end_time": "2021-09-16T21:26:44.763429",
     "exception": false,
     "start_time": "2021-09-16T21:26:44.730384",
     "status": "completed"
    },
    "tags": []
   },
   "outputs": [],
   "source": [
    "X = data.drop(\"sales\", axis=1)\n",
    "y = data[[\"sales\"]]"
   ]
  },
  {
   "cell_type": "code",
   "execution_count": 18,
   "id": "a4b4dce4",
   "metadata": {
    "execution": {
     "iopub.execute_input": "2021-09-16T21:26:44.815634Z",
     "iopub.status.busy": "2021-09-16T21:26:44.814819Z",
     "iopub.status.idle": "2021-09-16T21:26:45.677358Z",
     "shell.execute_reply": "2021-09-16T21:26:45.676851Z",
     "shell.execute_reply.started": "2021-09-16T20:02:17.351745Z"
    },
    "papermill": {
     "duration": 0.89045,
     "end_time": "2021-09-16T21:26:45.677525",
     "exception": false,
     "start_time": "2021-09-16T21:26:44.787075",
     "status": "completed"
    },
    "tags": []
   },
   "outputs": [
    {
     "data": {
      "text/html": [
       "<table class=\"simpletable\">\n",
       "<caption>OLS Regression Results</caption>\n",
       "<tr>\n",
       "  <th>Dep. Variable:</th>          <td>sales</td>      <th>  R-squared (uncentered):</th>      <td>   0.982</td> \n",
       "</tr>\n",
       "<tr>\n",
       "  <th>Model:</th>                   <td>OLS</td>       <th>  Adj. R-squared (uncentered):</th> <td>   0.982</td> \n",
       "</tr>\n",
       "<tr>\n",
       "  <th>Method:</th>             <td>Least Squares</td>  <th>  F-statistic:       </th>          <td>   3566.</td> \n",
       "</tr>\n",
       "<tr>\n",
       "  <th>Date:</th>             <td>Thu, 16 Sep 2021</td> <th>  Prob (F-statistic):</th>          <td>2.43e-171</td>\n",
       "</tr>\n",
       "<tr>\n",
       "  <th>Time:</th>                 <td>21:26:45</td>     <th>  Log-Likelihood:    </th>          <td> -423.54</td> \n",
       "</tr>\n",
       "<tr>\n",
       "  <th>No. Observations:</th>      <td>   200</td>      <th>  AIC:               </th>          <td>   853.1</td> \n",
       "</tr>\n",
       "<tr>\n",
       "  <th>Df Residuals:</th>          <td>   197</td>      <th>  BIC:               </th>          <td>   863.0</td> \n",
       "</tr>\n",
       "<tr>\n",
       "  <th>Df Model:</th>              <td>     3</td>      <th>                     </th>              <td> </td>    \n",
       "</tr>\n",
       "<tr>\n",
       "  <th>Covariance Type:</th>      <td>nonrobust</td>    <th>                     </th>              <td> </td>    \n",
       "</tr>\n",
       "</table>\n",
       "<table class=\"simpletable\">\n",
       "<tr>\n",
       "      <td></td>         <th>coef</th>     <th>std err</th>      <th>t</th>      <th>P>|t|</th>  <th>[0.025</th>    <th>0.975]</th>  \n",
       "</tr>\n",
       "<tr>\n",
       "  <th>TV</th>        <td>    0.0538</td> <td>    0.001</td> <td>   40.507</td> <td> 0.000</td> <td>    0.051</td> <td>    0.056</td>\n",
       "</tr>\n",
       "<tr>\n",
       "  <th>radio</th>     <td>    0.2222</td> <td>    0.009</td> <td>   23.595</td> <td> 0.000</td> <td>    0.204</td> <td>    0.241</td>\n",
       "</tr>\n",
       "<tr>\n",
       "  <th>newspaper</th> <td>    0.0168</td> <td>    0.007</td> <td>    2.517</td> <td> 0.013</td> <td>    0.004</td> <td>    0.030</td>\n",
       "</tr>\n",
       "</table>\n",
       "<table class=\"simpletable\">\n",
       "<tr>\n",
       "  <th>Omnibus:</th>       <td> 5.982</td> <th>  Durbin-Watson:     </th> <td>   2.038</td>\n",
       "</tr>\n",
       "<tr>\n",
       "  <th>Prob(Omnibus):</th> <td> 0.050</td> <th>  Jarque-Bera (JB):  </th> <td>   7.039</td>\n",
       "</tr>\n",
       "<tr>\n",
       "  <th>Skew:</th>          <td>-0.232</td> <th>  Prob(JB):          </th> <td>  0.0296</td>\n",
       "</tr>\n",
       "<tr>\n",
       "  <th>Kurtosis:</th>      <td> 3.794</td> <th>  Cond. No.          </th> <td>    12.6</td>\n",
       "</tr>\n",
       "</table><br/><br/>Notes:<br/>[1] R² is computed without centering (uncentered) since the model does not contain a constant.<br/>[2] Standard Errors assume that the covariance matrix of the errors is correctly specified."
      ],
      "text/plain": [
       "<class 'statsmodels.iolib.summary.Summary'>\n",
       "\"\"\"\n",
       "                                 OLS Regression Results                                \n",
       "=======================================================================================\n",
       "Dep. Variable:                  sales   R-squared (uncentered):                   0.982\n",
       "Model:                            OLS   Adj. R-squared (uncentered):              0.982\n",
       "Method:                 Least Squares   F-statistic:                              3566.\n",
       "Date:                Thu, 16 Sep 2021   Prob (F-statistic):                   2.43e-171\n",
       "Time:                        21:26:45   Log-Likelihood:                         -423.54\n",
       "No. Observations:                 200   AIC:                                      853.1\n",
       "Df Residuals:                     197   BIC:                                      863.0\n",
       "Df Model:                           3                                                  \n",
       "Covariance Type:            nonrobust                                                  \n",
       "==============================================================================\n",
       "                 coef    std err          t      P>|t|      [0.025      0.975]\n",
       "------------------------------------------------------------------------------\n",
       "TV             0.0538      0.001     40.507      0.000       0.051       0.056\n",
       "radio          0.2222      0.009     23.595      0.000       0.204       0.241\n",
       "newspaper      0.0168      0.007      2.517      0.013       0.004       0.030\n",
       "==============================================================================\n",
       "Omnibus:                        5.982   Durbin-Watson:                   2.038\n",
       "Prob(Omnibus):                  0.050   Jarque-Bera (JB):                7.039\n",
       "Skew:                          -0.232   Prob(JB):                       0.0296\n",
       "Kurtosis:                       3.794   Cond. No.                         12.6\n",
       "==============================================================================\n",
       "\n",
       "Notes:\n",
       "[1] R² is computed without centering (uncentered) since the model does not contain a constant.\n",
       "[2] Standard Errors assume that the covariance matrix of the errors is correctly specified.\n",
       "\"\"\""
      ]
     },
     "execution_count": 18,
     "metadata": {},
     "output_type": "execute_result"
    }
   ],
   "source": [
    "import statsmodels.api as sms\n",
    "lm = sms.OLS(y,X)\n",
    "model = lm.fit()\n",
    "model.summary()"
   ]
  },
  {
   "cell_type": "markdown",
   "id": "dcfe9745",
   "metadata": {
    "papermill": {
     "duration": 0.023393,
     "end_time": "2021-09-16T21:26:45.724996",
     "exception": false,
     "start_time": "2021-09-16T21:26:45.701603",
     "status": "completed"
    },
    "tags": []
   },
   "source": [
    "* In this output we can see a summary of many important things.\n",
    "* I want to mention some metrics here\n",
    "    - R-squared (uncentered): Our r-squared value is the rate at which the change in the dependent variable can be explained by the independent variables.\n",
    "    - Adj. R-squared (uncentered): The adjusted r-squared is the corrected version of the r-squared value. When a new variable is added to the r-square data set, it swells, so the perception that r-square improves as a new set is added, this is wrong.\n",
    "    - Prob (F-statistic): The value used to test the significance of the model. \n",
    "    - coef: Beta coefficients\n",
    "    - std err: Standard error of coefficients\n",
    "    \n",
    "----\n",
    "**now let's build our model using sklearn library and train-test separation**"
   ]
  },
  {
   "cell_type": "code",
   "execution_count": 19,
   "id": "a114b9c0",
   "metadata": {
    "execution": {
     "iopub.execute_input": "2021-09-16T21:26:45.785084Z",
     "iopub.status.busy": "2021-09-16T21:26:45.784454Z",
     "iopub.status.idle": "2021-09-16T21:26:45.786730Z",
     "shell.execute_reply": "2021-09-16T21:26:45.786143Z",
     "shell.execute_reply.started": "2021-09-16T21:01:03.784042Z"
    },
    "papermill": {
     "duration": 0.038218,
     "end_time": "2021-09-16T21:26:45.786863",
     "exception": false,
     "start_time": "2021-09-16T21:26:45.748645",
     "status": "completed"
    },
    "tags": []
   },
   "outputs": [],
   "source": [
    "from sklearn.linear_model import LinearRegression\n",
    "from sklearn.model_selection import train_test_split\n",
    "X_train, X_test, y_train, y_test = train_test_split(X, y, test_size=0.20,\n",
    "                                                   random_state=42)\n",
    "lr = LinearRegression()\n",
    "model = lr.fit(X_train, y_train)\n",
    "y_pred = model.predict(X_test)"
   ]
  },
  {
   "cell_type": "code",
   "execution_count": 20,
   "id": "61e85809",
   "metadata": {
    "execution": {
     "iopub.execute_input": "2021-09-16T21:26:45.841458Z",
     "iopub.status.busy": "2021-09-16T21:26:45.840850Z",
     "iopub.status.idle": "2021-09-16T21:26:45.843921Z",
     "shell.execute_reply": "2021-09-16T21:26:45.843458Z",
     "shell.execute_reply.started": "2021-09-16T21:02:06.444029Z"
    },
    "papermill": {
     "duration": 0.03343,
     "end_time": "2021-09-16T21:26:45.844055",
     "exception": false,
     "start_time": "2021-09-16T21:26:45.810625",
     "status": "completed"
    },
    "tags": []
   },
   "outputs": [
    {
     "data": {
      "text/plain": [
       "1.78159966153345"
      ]
     },
     "execution_count": 20,
     "metadata": {},
     "output_type": "execute_result"
    }
   ],
   "source": [
    "# let's look at our test error\n",
    "from sklearn.metrics import mean_squared_error\n",
    "np.sqrt(mean_squared_error(y_test, y_pred))"
   ]
  },
  {
   "cell_type": "markdown",
   "id": "bb39716b",
   "metadata": {
    "papermill": {
     "duration": 0.024259,
     "end_time": "2021-09-16T21:26:45.892343",
     "exception": false,
     "start_time": "2021-09-16T21:26:45.868084",
     "status": "completed"
    },
    "tags": []
   },
   "source": [
    "<center><img\n",
    "src=\"https://miro.medium.com/max/1400/1*dG6m4wnx3ARPtZPd8qf1tQ.gif\" style=\"width:50%;height:50%;\">\n",
    "</center>\n",
    "\n"
   ]
  },
  {
   "cell_type": "code",
   "execution_count": null,
   "id": "cf874faf",
   "metadata": {
    "papermill": {
     "duration": 0.023583,
     "end_time": "2021-09-16T21:26:45.939807",
     "exception": false,
     "start_time": "2021-09-16T21:26:45.916224",
     "status": "completed"
    },
    "tags": []
   },
   "outputs": [],
   "source": []
  }
 ],
 "metadata": {
  "kernelspec": {
   "display_name": "Python 3",
   "language": "python",
   "name": "python3"
  },
  "language_info": {
   "codemirror_mode": {
    "name": "ipython",
    "version": 3
   },
   "file_extension": ".py",
   "mimetype": "text/x-python",
   "name": "python",
   "nbconvert_exporter": "python",
   "pygments_lexer": "ipython3",
   "version": "3.7.10"
  },
  "papermill": {
   "default_parameters": {},
   "duration": 12.494897,
   "end_time": "2021-09-16T21:26:46.673793",
   "environment_variables": {},
   "exception": null,
   "input_path": "__notebook__.ipynb",
   "output_path": "__notebook__.ipynb",
   "parameters": {},
   "start_time": "2021-09-16T21:26:34.178896",
   "version": "2.3.3"
  }
 },
 "nbformat": 4,
 "nbformat_minor": 5
}
